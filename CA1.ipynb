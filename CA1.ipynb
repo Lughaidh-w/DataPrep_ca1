{
 "cells": [
  {
   "cell_type": "markdown",
   "id": "d791eae3",
   "metadata": {},
   "source": [
    "## Data Prep CA1"
   ]
  },
  {
   "cell_type": "markdown",
   "id": "cf2fbf8b",
   "metadata": {},
   "source": [
    "### Contents\n",
    "1. Introduction\n",
    "2. Functions used\n",
    "3. Results\n",
    "4. Conclusion"
   ]
  },
  {
   "cell_type": "markdown",
   "id": "89738a5e",
   "metadata": {},
   "source": [
    "### 1. Introduction"
   ]
  },
  {
   "cell_type": "markdown",
   "id": "3f28932b",
   "metadata": {},
   "source": [
    "This assignment will investigate a dataset containing \"APS Failure and Operational Data for Scania Trucks\"."
   ]
  },
  {
   "cell_type": "markdown",
   "id": "d2b3de11",
   "metadata": {},
   "source": [
    "<b>1.1 Theory"
   ]
  },
  {
   "cell_type": "markdown",
   "id": "2c2e0f0c",
   "metadata": {},
   "source": [
    "PCA, dimensionality reduction. LASSO/Ridge Comparisons for dimensionality reduction. Coerrelation. Evaluating dimensionality reduction."
   ]
  },
  {
   "cell_type": "markdown",
   "id": "9be7bde6",
   "metadata": {},
   "source": [
    "<b>1.2 Library Imports"
   ]
  },
  {
   "cell_type": "markdown",
   "id": "454e2b99",
   "metadata": {},
   "source": [
    "The following libraries are used in this assignment."
   ]
  },
  {
   "cell_type": "code",
   "execution_count": 1,
   "id": "ba9e9c5a",
   "metadata": {},
   "outputs": [],
   "source": [
    "import pandas as pd\n",
    "import seaborn as sns\n",
    "import matplotlib.pyplot as plt\n",
    "\n",
    "import missingno as msno"
   ]
  },
  {
   "cell_type": "markdown",
   "id": "aa554ad9",
   "metadata": {},
   "source": [
    "<b>1.3 Initial Dataset Load"
   ]
  },
  {
   "cell_type": "markdown",
   "id": "3c1c5db5",
   "metadata": {},
   "source": [
    "The dataset used is of \"APS Failure and Operational Data for Scania Trucks\"."
   ]
  },
  {
   "cell_type": "code",
   "execution_count": 2,
   "id": "03319eb7",
   "metadata": {},
   "outputs": [],
   "source": [
    "df = pd.read_csv(\"aps_failure_set.csv\")"
   ]
  },
  {
   "cell_type": "markdown",
   "id": "e83362f3",
   "metadata": {},
   "source": [
    "### 2. Selection of Functions Used"
   ]
  },
  {
   "cell_type": "code",
   "execution_count": 3,
   "id": "73235b6f",
   "metadata": {},
   "outputs": [],
   "source": [
    "def prelim(df):\n",
    "    print(f\"Dataframe Shape: {df.shape} \\n\")\n",
    "    print(f\"Dataframe statistical information: \\n{df.describe()} \\n\")\n",
    "    print(f\"Object datatype statistical information: \\n{df.describe(include=object)} \\n\")\n",
    "    print(f\"Dataframe info function: \\n{df.info()} \\n\")\n",
    "    print(df.isnull().sum())"
   ]
  },
  {
   "cell_type": "code",
   "execution_count": 4,
   "id": "2e9cfe2b",
   "metadata": {},
   "outputs": [],
   "source": [
    "# function that views the missing values of the first x row's\n",
    "def missing_values_vis(df, end_row):\n",
    "    subset_1 = df.iloc[:end_row, :85]\n",
    "    subset_2 = df.iloc[:end_row, 85:]\n",
    "\n",
    "    fig, axes = plt.subplots(2, 1, figsize=(15, 15))\n",
    "\n",
    "    msno.matrix(subset_1, ax=axes[0], sparkline=False)\n",
    "    axes[0].set_title('Subset 1: Missing Values in Features 1 - 84')\n",
    "\n",
    "    msno.matrix(subset_2, ax=axes[1], sparkline=False)\n",
    "    axes[1].set_title('Subset 2: Missing Values in Features 85 - 171')\n",
    "    plt.show()"
   ]
  },
  {
   "cell_type": "markdown",
   "id": "2f0f7be3",
   "metadata": {},
   "source": [
    "### 3. Results"
   ]
  },
  {
   "cell_type": "markdown",
   "id": "23838ccc",
   "metadata": {},
   "source": [
    "<b>3.1 First EDA"
   ]
  },
  {
   "cell_type": "markdown",
   "id": "0355b6fc",
   "metadata": {},
   "source": [
    "Using pandas functions for summary statistics some things are noticed. There are 60000 entries and 171 features. 170 of the 171 columns are categories.\n",
    "\n",
    "In this case, the pandas head and describe functions both reveal something about the dataset. While some of the features explored seem numerical, they have values of \"na\"."
   ]
  },
  {
   "cell_type": "code",
   "execution_count": 5,
   "id": "44d3ad1f",
   "metadata": {},
   "outputs": [
    {
     "data": {
      "text/html": [
       "<div>\n",
       "<style scoped>\n",
       "    .dataframe tbody tr th:only-of-type {\n",
       "        vertical-align: middle;\n",
       "    }\n",
       "\n",
       "    .dataframe tbody tr th {\n",
       "        vertical-align: top;\n",
       "    }\n",
       "\n",
       "    .dataframe thead th {\n",
       "        text-align: right;\n",
       "    }\n",
       "</style>\n",
       "<table border=\"1\" class=\"dataframe\">\n",
       "  <thead>\n",
       "    <tr style=\"text-align: right;\">\n",
       "      <th></th>\n",
       "      <th>class</th>\n",
       "      <th>aa_000</th>\n",
       "      <th>ab_000</th>\n",
       "      <th>ac_000</th>\n",
       "      <th>ad_000</th>\n",
       "      <th>ae_000</th>\n",
       "      <th>af_000</th>\n",
       "      <th>ag_000</th>\n",
       "      <th>ag_001</th>\n",
       "      <th>ag_002</th>\n",
       "      <th>...</th>\n",
       "      <th>ee_002</th>\n",
       "      <th>ee_003</th>\n",
       "      <th>ee_004</th>\n",
       "      <th>ee_005</th>\n",
       "      <th>ee_006</th>\n",
       "      <th>ee_007</th>\n",
       "      <th>ee_008</th>\n",
       "      <th>ee_009</th>\n",
       "      <th>ef_000</th>\n",
       "      <th>eg_000</th>\n",
       "    </tr>\n",
       "  </thead>\n",
       "  <tbody>\n",
       "    <tr>\n",
       "      <th>0</th>\n",
       "      <td>neg</td>\n",
       "      <td>76698</td>\n",
       "      <td>na</td>\n",
       "      <td>2130706438</td>\n",
       "      <td>280</td>\n",
       "      <td>0</td>\n",
       "      <td>0</td>\n",
       "      <td>0</td>\n",
       "      <td>0</td>\n",
       "      <td>0</td>\n",
       "      <td>...</td>\n",
       "      <td>1240520</td>\n",
       "      <td>493384</td>\n",
       "      <td>721044</td>\n",
       "      <td>469792</td>\n",
       "      <td>339156</td>\n",
       "      <td>157956</td>\n",
       "      <td>73224</td>\n",
       "      <td>0</td>\n",
       "      <td>0</td>\n",
       "      <td>0</td>\n",
       "    </tr>\n",
       "    <tr>\n",
       "      <th>1</th>\n",
       "      <td>neg</td>\n",
       "      <td>33058</td>\n",
       "      <td>na</td>\n",
       "      <td>0</td>\n",
       "      <td>na</td>\n",
       "      <td>0</td>\n",
       "      <td>0</td>\n",
       "      <td>0</td>\n",
       "      <td>0</td>\n",
       "      <td>0</td>\n",
       "      <td>...</td>\n",
       "      <td>421400</td>\n",
       "      <td>178064</td>\n",
       "      <td>293306</td>\n",
       "      <td>245416</td>\n",
       "      <td>133654</td>\n",
       "      <td>81140</td>\n",
       "      <td>97576</td>\n",
       "      <td>1500</td>\n",
       "      <td>0</td>\n",
       "      <td>0</td>\n",
       "    </tr>\n",
       "    <tr>\n",
       "      <th>2</th>\n",
       "      <td>neg</td>\n",
       "      <td>41040</td>\n",
       "      <td>na</td>\n",
       "      <td>228</td>\n",
       "      <td>100</td>\n",
       "      <td>0</td>\n",
       "      <td>0</td>\n",
       "      <td>0</td>\n",
       "      <td>0</td>\n",
       "      <td>0</td>\n",
       "      <td>...</td>\n",
       "      <td>277378</td>\n",
       "      <td>159812</td>\n",
       "      <td>423992</td>\n",
       "      <td>409564</td>\n",
       "      <td>320746</td>\n",
       "      <td>158022</td>\n",
       "      <td>95128</td>\n",
       "      <td>514</td>\n",
       "      <td>0</td>\n",
       "      <td>0</td>\n",
       "    </tr>\n",
       "    <tr>\n",
       "      <th>3</th>\n",
       "      <td>neg</td>\n",
       "      <td>12</td>\n",
       "      <td>0</td>\n",
       "      <td>70</td>\n",
       "      <td>66</td>\n",
       "      <td>0</td>\n",
       "      <td>10</td>\n",
       "      <td>0</td>\n",
       "      <td>0</td>\n",
       "      <td>0</td>\n",
       "      <td>...</td>\n",
       "      <td>240</td>\n",
       "      <td>46</td>\n",
       "      <td>58</td>\n",
       "      <td>44</td>\n",
       "      <td>10</td>\n",
       "      <td>0</td>\n",
       "      <td>0</td>\n",
       "      <td>0</td>\n",
       "      <td>4</td>\n",
       "      <td>32</td>\n",
       "    </tr>\n",
       "    <tr>\n",
       "      <th>4</th>\n",
       "      <td>neg</td>\n",
       "      <td>60874</td>\n",
       "      <td>na</td>\n",
       "      <td>1368</td>\n",
       "      <td>458</td>\n",
       "      <td>0</td>\n",
       "      <td>0</td>\n",
       "      <td>0</td>\n",
       "      <td>0</td>\n",
       "      <td>0</td>\n",
       "      <td>...</td>\n",
       "      <td>622012</td>\n",
       "      <td>229790</td>\n",
       "      <td>405298</td>\n",
       "      <td>347188</td>\n",
       "      <td>286954</td>\n",
       "      <td>311560</td>\n",
       "      <td>433954</td>\n",
       "      <td>1218</td>\n",
       "      <td>0</td>\n",
       "      <td>0</td>\n",
       "    </tr>\n",
       "  </tbody>\n",
       "</table>\n",
       "<p>5 rows × 171 columns</p>\n",
       "</div>"
      ],
      "text/plain": [
       "  class  aa_000 ab_000      ac_000 ad_000 ae_000 af_000 ag_000 ag_001 ag_002  \\\n",
       "0   neg   76698     na  2130706438    280      0      0      0      0      0   \n",
       "1   neg   33058     na           0     na      0      0      0      0      0   \n",
       "2   neg   41040     na         228    100      0      0      0      0      0   \n",
       "3   neg      12      0          70     66      0     10      0      0      0   \n",
       "4   neg   60874     na        1368    458      0      0      0      0      0   \n",
       "\n",
       "   ...   ee_002  ee_003  ee_004  ee_005  ee_006  ee_007  ee_008 ee_009 ef_000  \\\n",
       "0  ...  1240520  493384  721044  469792  339156  157956   73224      0      0   \n",
       "1  ...   421400  178064  293306  245416  133654   81140   97576   1500      0   \n",
       "2  ...   277378  159812  423992  409564  320746  158022   95128    514      0   \n",
       "3  ...      240      46      58      44      10       0       0      0      4   \n",
       "4  ...   622012  229790  405298  347188  286954  311560  433954   1218      0   \n",
       "\n",
       "  eg_000  \n",
       "0      0  \n",
       "1      0  \n",
       "2      0  \n",
       "3     32  \n",
       "4      0  \n",
       "\n",
       "[5 rows x 171 columns]"
      ]
     },
     "execution_count": 5,
     "metadata": {},
     "output_type": "execute_result"
    }
   ],
   "source": [
    "df.head()"
   ]
  },
  {
   "cell_type": "code",
   "execution_count": 6,
   "id": "681fcf4e",
   "metadata": {},
   "outputs": [
    {
     "name": "stdout",
     "output_type": "stream",
     "text": [
      "Dataframe Shape: (60000, 171) \n",
      "\n",
      "Dataframe statistical information: \n",
      "             aa_000\n",
      "count  6.000000e+04\n",
      "mean   5.933650e+04\n",
      "std    1.454301e+05\n",
      "min    0.000000e+00\n",
      "25%    8.340000e+02\n",
      "50%    3.077600e+04\n",
      "75%    4.866800e+04\n",
      "max    2.746564e+06 \n",
      "\n",
      "Object datatype statistical information: \n",
      "        class ab_000 ac_000 ad_000 ae_000 af_000 ag_000 ag_001 ag_002 ag_003  \\\n",
      "count   60000  60000  60000  60000  60000  60000  60000  60000  60000  60000   \n",
      "unique      2     30   2062   1887    334    419    155    618   2423   7880   \n",
      "top       neg     na      0     na      0      0      0      0      0      0   \n",
      "freq    59000  46329   8752  14861  55543  55476  59133  58587  56181  46894   \n",
      "\n",
      "        ... ee_002 ee_003 ee_004 ee_005 ee_006 ee_007 ee_008 ee_009 ef_000  \\\n",
      "count   ...  60000  60000  60000  60000  60000  60000  60000  60000  60000   \n",
      "unique  ...  34489  31712  35189  36289  31796  30470  24214   9725     29   \n",
      "top     ...      0      0      0      0      0      0      0      0      0   \n",
      "freq    ...   1364   1557   1797   2814   4458   7898  17280  31863  57021   \n",
      "\n",
      "       eg_000  \n",
      "count   60000  \n",
      "unique     50  \n",
      "top         0  \n",
      "freq    56794  \n",
      "\n",
      "[4 rows x 170 columns] \n",
      "\n",
      "<class 'pandas.core.frame.DataFrame'>\n",
      "RangeIndex: 60000 entries, 0 to 59999\n",
      "Columns: 171 entries, class to eg_000\n",
      "dtypes: int64(1), object(170)\n",
      "memory usage: 78.3+ MB\n",
      "Dataframe info function: \n",
      "None \n",
      "\n",
      "class     0\n",
      "aa_000    0\n",
      "ab_000    0\n",
      "ac_000    0\n",
      "ad_000    0\n",
      "         ..\n",
      "ee_007    0\n",
      "ee_008    0\n",
      "ee_009    0\n",
      "ef_000    0\n",
      "eg_000    0\n",
      "Length: 171, dtype: int64\n"
     ]
    }
   ],
   "source": [
    "prelim(df)"
   ]
  },
  {
   "cell_type": "markdown",
   "id": "3c37fb26",
   "metadata": {},
   "source": [
    "<b>3.2 Setting null values"
   ]
  },
  {
   "cell_type": "markdown",
   "id": "ca9daec9",
   "metadata": {},
   "source": [
    "A quick way to remedy this is to reload the dataset setting \"na\" as a null value. By default, Pandas does not include \"na\" as a null value*, and this can be added with the na_values function.\n",
    "\n",
    "**source: pandas documentation https://pandas.pydata.org/pandas-docs/stable/reference/api/pandas.read_csv.html*"
   ]
  },
  {
   "cell_type": "code",
   "execution_count": 7,
   "id": "c32f9a9e",
   "metadata": {},
   "outputs": [],
   "source": [
    "df = pd.read_csv(\"aps_failure_set.csv\", na_values=\"na\")"
   ]
  },
  {
   "cell_type": "code",
   "execution_count": 8,
   "id": "eb65a8ea",
   "metadata": {},
   "outputs": [
    {
     "data": {
      "text/html": [
       "<div>\n",
       "<style scoped>\n",
       "    .dataframe tbody tr th:only-of-type {\n",
       "        vertical-align: middle;\n",
       "    }\n",
       "\n",
       "    .dataframe tbody tr th {\n",
       "        vertical-align: top;\n",
       "    }\n",
       "\n",
       "    .dataframe thead th {\n",
       "        text-align: right;\n",
       "    }\n",
       "</style>\n",
       "<table border=\"1\" class=\"dataframe\">\n",
       "  <thead>\n",
       "    <tr style=\"text-align: right;\">\n",
       "      <th></th>\n",
       "      <th>class</th>\n",
       "      <th>aa_000</th>\n",
       "      <th>ab_000</th>\n",
       "      <th>ac_000</th>\n",
       "      <th>ad_000</th>\n",
       "      <th>ae_000</th>\n",
       "      <th>af_000</th>\n",
       "      <th>ag_000</th>\n",
       "      <th>ag_001</th>\n",
       "      <th>ag_002</th>\n",
       "      <th>...</th>\n",
       "      <th>ee_002</th>\n",
       "      <th>ee_003</th>\n",
       "      <th>ee_004</th>\n",
       "      <th>ee_005</th>\n",
       "      <th>ee_006</th>\n",
       "      <th>ee_007</th>\n",
       "      <th>ee_008</th>\n",
       "      <th>ee_009</th>\n",
       "      <th>ef_000</th>\n",
       "      <th>eg_000</th>\n",
       "    </tr>\n",
       "  </thead>\n",
       "  <tbody>\n",
       "    <tr>\n",
       "      <th>0</th>\n",
       "      <td>neg</td>\n",
       "      <td>76698</td>\n",
       "      <td>NaN</td>\n",
       "      <td>2.130706e+09</td>\n",
       "      <td>280.0</td>\n",
       "      <td>0.0</td>\n",
       "      <td>0.0</td>\n",
       "      <td>0.0</td>\n",
       "      <td>0.0</td>\n",
       "      <td>0.0</td>\n",
       "      <td>...</td>\n",
       "      <td>1240520.0</td>\n",
       "      <td>493384.0</td>\n",
       "      <td>721044.0</td>\n",
       "      <td>469792.0</td>\n",
       "      <td>339156.0</td>\n",
       "      <td>157956.0</td>\n",
       "      <td>73224.0</td>\n",
       "      <td>0.0</td>\n",
       "      <td>0.0</td>\n",
       "      <td>0.0</td>\n",
       "    </tr>\n",
       "    <tr>\n",
       "      <th>1</th>\n",
       "      <td>neg</td>\n",
       "      <td>33058</td>\n",
       "      <td>NaN</td>\n",
       "      <td>0.000000e+00</td>\n",
       "      <td>NaN</td>\n",
       "      <td>0.0</td>\n",
       "      <td>0.0</td>\n",
       "      <td>0.0</td>\n",
       "      <td>0.0</td>\n",
       "      <td>0.0</td>\n",
       "      <td>...</td>\n",
       "      <td>421400.0</td>\n",
       "      <td>178064.0</td>\n",
       "      <td>293306.0</td>\n",
       "      <td>245416.0</td>\n",
       "      <td>133654.0</td>\n",
       "      <td>81140.0</td>\n",
       "      <td>97576.0</td>\n",
       "      <td>1500.0</td>\n",
       "      <td>0.0</td>\n",
       "      <td>0.0</td>\n",
       "    </tr>\n",
       "    <tr>\n",
       "      <th>2</th>\n",
       "      <td>neg</td>\n",
       "      <td>41040</td>\n",
       "      <td>NaN</td>\n",
       "      <td>2.280000e+02</td>\n",
       "      <td>100.0</td>\n",
       "      <td>0.0</td>\n",
       "      <td>0.0</td>\n",
       "      <td>0.0</td>\n",
       "      <td>0.0</td>\n",
       "      <td>0.0</td>\n",
       "      <td>...</td>\n",
       "      <td>277378.0</td>\n",
       "      <td>159812.0</td>\n",
       "      <td>423992.0</td>\n",
       "      <td>409564.0</td>\n",
       "      <td>320746.0</td>\n",
       "      <td>158022.0</td>\n",
       "      <td>95128.0</td>\n",
       "      <td>514.0</td>\n",
       "      <td>0.0</td>\n",
       "      <td>0.0</td>\n",
       "    </tr>\n",
       "    <tr>\n",
       "      <th>3</th>\n",
       "      <td>neg</td>\n",
       "      <td>12</td>\n",
       "      <td>0.0</td>\n",
       "      <td>7.000000e+01</td>\n",
       "      <td>66.0</td>\n",
       "      <td>0.0</td>\n",
       "      <td>10.0</td>\n",
       "      <td>0.0</td>\n",
       "      <td>0.0</td>\n",
       "      <td>0.0</td>\n",
       "      <td>...</td>\n",
       "      <td>240.0</td>\n",
       "      <td>46.0</td>\n",
       "      <td>58.0</td>\n",
       "      <td>44.0</td>\n",
       "      <td>10.0</td>\n",
       "      <td>0.0</td>\n",
       "      <td>0.0</td>\n",
       "      <td>0.0</td>\n",
       "      <td>4.0</td>\n",
       "      <td>32.0</td>\n",
       "    </tr>\n",
       "    <tr>\n",
       "      <th>4</th>\n",
       "      <td>neg</td>\n",
       "      <td>60874</td>\n",
       "      <td>NaN</td>\n",
       "      <td>1.368000e+03</td>\n",
       "      <td>458.0</td>\n",
       "      <td>0.0</td>\n",
       "      <td>0.0</td>\n",
       "      <td>0.0</td>\n",
       "      <td>0.0</td>\n",
       "      <td>0.0</td>\n",
       "      <td>...</td>\n",
       "      <td>622012.0</td>\n",
       "      <td>229790.0</td>\n",
       "      <td>405298.0</td>\n",
       "      <td>347188.0</td>\n",
       "      <td>286954.0</td>\n",
       "      <td>311560.0</td>\n",
       "      <td>433954.0</td>\n",
       "      <td>1218.0</td>\n",
       "      <td>0.0</td>\n",
       "      <td>0.0</td>\n",
       "    </tr>\n",
       "  </tbody>\n",
       "</table>\n",
       "<p>5 rows × 171 columns</p>\n",
       "</div>"
      ],
      "text/plain": [
       "  class  aa_000  ab_000        ac_000  ad_000  ae_000  af_000  ag_000  ag_001  \\\n",
       "0   neg   76698     NaN  2.130706e+09   280.0     0.0     0.0     0.0     0.0   \n",
       "1   neg   33058     NaN  0.000000e+00     NaN     0.0     0.0     0.0     0.0   \n",
       "2   neg   41040     NaN  2.280000e+02   100.0     0.0     0.0     0.0     0.0   \n",
       "3   neg      12     0.0  7.000000e+01    66.0     0.0    10.0     0.0     0.0   \n",
       "4   neg   60874     NaN  1.368000e+03   458.0     0.0     0.0     0.0     0.0   \n",
       "\n",
       "   ag_002  ...     ee_002    ee_003    ee_004    ee_005    ee_006    ee_007  \\\n",
       "0     0.0  ...  1240520.0  493384.0  721044.0  469792.0  339156.0  157956.0   \n",
       "1     0.0  ...   421400.0  178064.0  293306.0  245416.0  133654.0   81140.0   \n",
       "2     0.0  ...   277378.0  159812.0  423992.0  409564.0  320746.0  158022.0   \n",
       "3     0.0  ...      240.0      46.0      58.0      44.0      10.0       0.0   \n",
       "4     0.0  ...   622012.0  229790.0  405298.0  347188.0  286954.0  311560.0   \n",
       "\n",
       "     ee_008  ee_009  ef_000  eg_000  \n",
       "0   73224.0     0.0     0.0     0.0  \n",
       "1   97576.0  1500.0     0.0     0.0  \n",
       "2   95128.0   514.0     0.0     0.0  \n",
       "3       0.0     0.0     4.0    32.0  \n",
       "4  433954.0  1218.0     0.0     0.0  \n",
       "\n",
       "[5 rows x 171 columns]"
      ]
     },
     "execution_count": 8,
     "metadata": {},
     "output_type": "execute_result"
    }
   ],
   "source": [
    "df.head()"
   ]
  },
  {
   "cell_type": "code",
   "execution_count": 9,
   "id": "01ff4a39",
   "metadata": {},
   "outputs": [
    {
     "data": {
      "text/plain": [
       "count    5.932900e+04\n",
       "mean     4.454897e+05\n",
       "std      1.155540e+06\n",
       "min      0.000000e+00\n",
       "25%      2.936000e+03\n",
       "50%      2.337960e+05\n",
       "75%      4.383960e+05\n",
       "max      7.793393e+07\n",
       "Name: ee_002, dtype: float64"
      ]
     },
     "execution_count": 9,
     "metadata": {},
     "output_type": "execute_result"
    }
   ],
   "source": [
    "df[\"ee_002\"].describe()"
   ]
  },
  {
   "cell_type": "markdown",
   "id": "29a00ba4",
   "metadata": {},
   "source": [
    "<b>3.3 Second EDA"
   ]
  },
  {
   "cell_type": "markdown",
   "id": "61b34321",
   "metadata": {},
   "source": [
    "Now when the same statistical function is performed only one feature remains categorical, and the other features have been automatically loaded as numerical."
   ]
  },
  {
   "cell_type": "code",
   "execution_count": 10,
   "id": "4eca8d26",
   "metadata": {},
   "outputs": [
    {
     "name": "stdout",
     "output_type": "stream",
     "text": [
      "Dataframe Shape: (60000, 171) \n",
      "\n",
      "Dataframe statistical information: \n",
      "             aa_000        ab_000        ac_000        ad_000        ae_000  \\\n",
      "count  6.000000e+04  13671.000000  5.666500e+04  4.513900e+04  57500.000000   \n",
      "mean   5.933650e+04      0.713189  3.560143e+08  1.906206e+05      6.819130   \n",
      "std    1.454301e+05      3.478962  7.948749e+08  4.040441e+07    161.543373   \n",
      "min    0.000000e+00      0.000000  0.000000e+00  0.000000e+00      0.000000   \n",
      "25%    8.340000e+02      0.000000  1.600000e+01  2.400000e+01      0.000000   \n",
      "50%    3.077600e+04      0.000000  1.520000e+02  1.260000e+02      0.000000   \n",
      "75%    4.866800e+04      0.000000  9.640000e+02  4.300000e+02      0.000000   \n",
      "max    2.746564e+06    204.000000  2.130707e+09  8.584298e+09  21050.000000   \n",
      "\n",
      "             af_000        ag_000        ag_001        ag_002        ag_003  \\\n",
      "count  57500.000000  5.932900e+04  5.932900e+04  5.932900e+04  5.932900e+04   \n",
      "mean      11.006817  2.216364e+02  9.757223e+02  8.606015e+03  8.859128e+04   \n",
      "std      209.792592  2.047846e+04  3.420053e+04  1.503220e+05  7.617312e+05   \n",
      "min        0.000000  0.000000e+00  0.000000e+00  0.000000e+00  0.000000e+00   \n",
      "25%        0.000000  0.000000e+00  0.000000e+00  0.000000e+00  0.000000e+00   \n",
      "50%        0.000000  0.000000e+00  0.000000e+00  0.000000e+00  0.000000e+00   \n",
      "75%        0.000000  0.000000e+00  0.000000e+00  0.000000e+00  0.000000e+00   \n",
      "max    20070.000000  3.376892e+06  4.109372e+06  1.055286e+07  6.340207e+07   \n",
      "\n",
      "       ...        ee_002        ee_003        ee_004        ee_005  \\\n",
      "count  ...  5.932900e+04  5.932900e+04  5.932900e+04  5.932900e+04   \n",
      "mean   ...  4.454897e+05  2.111264e+05  4.457343e+05  3.939462e+05   \n",
      "std    ...  1.155540e+06  5.433188e+05  1.168314e+06  1.121044e+06   \n",
      "min    ...  0.000000e+00  0.000000e+00  0.000000e+00  0.000000e+00   \n",
      "25%    ...  2.936000e+03  1.166000e+03  2.700000e+03  3.584000e+03   \n",
      "50%    ...  2.337960e+05  1.120860e+05  2.215180e+05  1.899880e+05   \n",
      "75%    ...  4.383960e+05  2.182320e+05  4.666140e+05  4.032220e+05   \n",
      "max    ...  7.793393e+07  3.775839e+07  9.715238e+07  5.743524e+07   \n",
      "\n",
      "             ee_006        ee_007        ee_008        ee_009        ef_000  \\\n",
      "count  5.932900e+04  5.932900e+04  5.932900e+04  5.932900e+04  57276.000000   \n",
      "mean   3.330582e+05  3.462714e+05  1.387300e+05  8.388915e+03      0.090579   \n",
      "std    1.069160e+06  1.728056e+06  4.495100e+05  4.747043e+04      4.368855   \n",
      "min    0.000000e+00  0.000000e+00  0.000000e+00  0.000000e+00      0.000000   \n",
      "25%    5.120000e+02  1.100000e+02  0.000000e+00  0.000000e+00      0.000000   \n",
      "50%    9.243200e+04  4.109800e+04  3.812000e+03  0.000000e+00      0.000000   \n",
      "75%    2.750940e+05  1.678140e+05  1.397240e+05  2.028000e+03      0.000000   \n",
      "max    3.160781e+07  1.195801e+08  1.926740e+07  3.810078e+06    482.000000   \n",
      "\n",
      "             eg_000  \n",
      "count  57277.000000  \n",
      "mean       0.212756  \n",
      "std        8.830641  \n",
      "min        0.000000  \n",
      "25%        0.000000  \n",
      "50%        0.000000  \n",
      "75%        0.000000  \n",
      "max     1146.000000  \n",
      "\n",
      "[8 rows x 170 columns] \n",
      "\n",
      "Object datatype statistical information: \n",
      "        class\n",
      "count   60000\n",
      "unique      2\n",
      "top       neg\n",
      "freq    59000 \n",
      "\n",
      "<class 'pandas.core.frame.DataFrame'>\n",
      "RangeIndex: 60000 entries, 0 to 59999\n",
      "Columns: 171 entries, class to eg_000\n",
      "dtypes: float64(169), int64(1), object(1)\n",
      "memory usage: 78.3+ MB\n",
      "Dataframe info function: \n",
      "None \n",
      "\n",
      "class         0\n",
      "aa_000        0\n",
      "ab_000    46329\n",
      "ac_000     3335\n",
      "ad_000    14861\n",
      "          ...  \n",
      "ee_007      671\n",
      "ee_008      671\n",
      "ee_009      671\n",
      "ef_000     2724\n",
      "eg_000     2723\n",
      "Length: 171, dtype: int64\n"
     ]
    }
   ],
   "source": [
    "prelim(df)"
   ]
  },
  {
   "cell_type": "markdown",
   "id": "ecceb2ed",
   "metadata": {},
   "source": [
    "<b>Statistical Analysis"
   ]
  },
  {
   "cell_type": "markdown",
   "id": "325075c0",
   "metadata": {},
   "source": [
    "Investigate differences in figures.. There should be some things to look at here... some features have the majority of their values 0 etc."
   ]
  },
  {
   "cell_type": "code",
   "execution_count": null,
   "id": "84f3ae25",
   "metadata": {},
   "outputs": [],
   "source": []
  },
  {
   "cell_type": "code",
   "execution_count": null,
   "id": "dd2b3f0f",
   "metadata": {},
   "outputs": [],
   "source": []
  },
  {
   "cell_type": "code",
   "execution_count": null,
   "id": "29917ac9",
   "metadata": {},
   "outputs": [],
   "source": []
  },
  {
   "cell_type": "markdown",
   "id": "e844200d",
   "metadata": {},
   "source": [
    "<b>Missing Values"
   ]
  },
  {
   "cell_type": "markdown",
   "id": "bcb6f47a",
   "metadata": {},
   "source": [
    "Now that the \"na\" values are correctly recognised as missing values they can be visualised.\n",
    "\n",
    "Below a matrix of missing values is shown using the Missingno library, with white horizontal bands showing rows with groupings of missing data and vertical bars indicating features with missing data (slighter vertical bars indicate a separation of features).\n",
    "\n",
    "Missingno matrix can be hard to interpid with a lot of data, and by limiting the data viewed patterns emerge.This indicates non random missing data (Harrison, 2019). Given that this dataset is of APS failure data, the bands or patterns could be related to specific failure types."
   ]
  },
  {
   "cell_type": "code",
   "execution_count": 11,
   "id": "6536207d",
   "metadata": {},
   "outputs": [
    {
     "data": {
      "image/png": "[encoded data removed]",
      "text/plain": [
       "<Figure size 1500x1500 with 2 Axes>"
      ]
     },
     "metadata": {},
     "output_type": "display_data"
    }
   ],
   "source": [
    "missing_values_vis(df, 1000)"
   ]
  },
  {
   "cell_type": "markdown",
   "id": "ef40b39d",
   "metadata": {},
   "source": [
    "<b> Target variable"
   ]
  },
  {
   "cell_type": "markdown",
   "id": "72c2a26d",
   "metadata": {},
   "source": [
    "The target variable is a binary category with two values in a proportion of 59 to 1; \"neg\" and \"pos\". The target variable has no missing data."
   ]
  },
  {
   "cell_type": "code",
   "execution_count": 12,
   "id": "02d07b7e",
   "metadata": {},
   "outputs": [
    {
     "data": {
      "text/plain": [
       "0"
      ]
     },
     "execution_count": 12,
     "metadata": {},
     "output_type": "execute_result"
    }
   ],
   "source": [
    "df[\"class\"].isnull().sum()"
   ]
  },
  {
   "cell_type": "code",
   "execution_count": 13,
   "id": "6b0c2a8c",
   "metadata": {},
   "outputs": [
    {
     "data": {
      "text/plain": [
       "class\n",
       "neg    59000\n",
       "pos     1000\n",
       "Name: count, dtype: int64"
      ]
     },
     "execution_count": 13,
     "metadata": {},
     "output_type": "execute_result"
    }
   ],
   "source": [
    "df[\"class\"].value_counts()"
   ]
  },
  {
   "cell_type": "markdown",
   "id": "30815e14",
   "metadata": {},
   "source": [
    "<b>Missing values per \"class\" variable"
   ]
  },
  {
   "cell_type": "markdown",
   "id": "bb858695",
   "metadata": {},
   "source": [
    "Different patterns of missing values can be seen when the missing value matrix are split into the two different values of the \"class\" variable.\n",
    "\n",
    "It might hint that they are related to the different states of \"class\". \n",
    "\n",
    "Bands could represent failings on the same part? They were labelled \"na\" specifically? Perhaps there are other \"sensors\" that \"fail\" before the missing values give no reading, or other indicator variables that"
   ]
  },
  {
   "cell_type": "code",
   "execution_count": 14,
   "id": "a716c79b",
   "metadata": {},
   "outputs": [
    {
     "data": {
      "image/png": "[encoded data removed]",
      "text/plain": [
       "<Figure size 1500x1500 with 2 Axes>"
      ]
     },
     "metadata": {},
     "output_type": "display_data"
    }
   ],
   "source": [
    "df1 = df[df[\"class\"]==\"pos\"]\n",
    "# Add title to these graphs\n",
    "missing_values_vis(df1, 500)"
   ]
  },
  {
   "cell_type": "code",
   "execution_count": 15,
   "id": "4a146135",
   "metadata": {},
   "outputs": [
    {
     "data": {
      "image/png": "[encoded data removed]",
      "text/plain": [
       "<Figure size 1500x1500 with 2 Axes>"
      ]
     },
     "metadata": {},
     "output_type": "display_data"
    }
   ],
   "source": [
    "df1 = df[df[\"class\"]==\"neg\"]\n",
    "missing_values_vis(df1, 500)"
   ]
  },
  {
   "cell_type": "markdown",
   "id": "415362af",
   "metadata": {},
   "source": [
    "<b>Features with the highest missing data"
   ]
  },
  {
   "cell_type": "markdown",
   "id": "e7725415",
   "metadata": {},
   "source": [
    "Plot features that have high missing data... one band in subset one with high missing data.."
   ]
  },
  {
   "cell_type": "code",
   "execution_count": 16,
   "id": "521b2c07",
   "metadata": {},
   "outputs": [
    {
     "name": "stdout",
     "output_type": "stream",
     "text": [
      "br_000    49264\n",
      "bq_000    48722\n",
      "bp_000    47740\n",
      "bo_000    46333\n",
      "ab_000    46329\n",
      "dtype: int64\n"
     ]
    }
   ],
   "source": [
    "# Calculate the number of missing values in each column\n",
    "missing_counts = df.isnull().sum()\n",
    "\n",
    "# Sort the columns by the number of missing values in descending order\n",
    "sorted_columns = missing_counts.sort_values(ascending=False)\n",
    "\n",
    "# Print or visualize the columns with the most missing values\n",
    "print(sorted_columns.head())  # Print the top columns with the most missing values\n"
   ]
  },
  {
   "cell_type": "markdown",
   "id": "cc8b74fe",
   "metadata": {},
   "source": [
    "<b> Chi-squared Test"
   ]
  },
  {
   "cell_type": "markdown",
   "id": "e23ed19d",
   "metadata": {},
   "source": [
    "A Chi-squared test is useful in measuring categories relationship. The target variable is a binary category featuring "
   ]
  },
  {
   "cell_type": "code",
   "execution_count": 17,
   "id": "d7125177",
   "metadata": {},
   "outputs": [],
   "source": [
    "from scipy.stats import chi2_contingency"
   ]
  },
  {
   "cell_type": "code",
   "execution_count": 18,
   "id": "1f7655aa",
   "metadata": {},
   "outputs": [
    {
     "name": "stdout",
     "output_type": "stream",
     "text": [
      "Chi-squared statistic: 2782.2899129608772\n",
      "p-value: 0.0\n",
      "Degrees of freedom: 1\n",
      "Expected frequencies: [[13439.21666667   227.78333333]\n",
      " [45560.78333333   772.21666667]]\n"
     ]
    }
   ],
   "source": [
    "contingency_table = pd.crosstab(df[\"bo_000\"].isnull(), df[\"class\"])\n",
    "\n",
    "# Perform the chi-squared test\n",
    "chi2, p, dof, expected = chi2_contingency(contingency_table)\n",
    "\n",
    "# Print the results\n",
    "print(\"Chi-squared statistic:\", chi2)\n",
    "print(\"p-value:\", p)\n",
    "print(\"Degrees of freedom:\", dof)\n",
    "print(\"Expected frequencies:\", expected)"
   ]
  },
  {
   "cell_type": "code",
   "execution_count": 19,
   "id": "c1533ac4",
   "metadata": {},
   "outputs": [
    {
     "data": {
      "text/plain": [
       "Chi2ContingencyResult(statistic=2782.2899129608772, pvalue=0.0, dof=1, expected_freq=array([[13439.21666667,   227.78333333],\n",
       "       [45560.78333333,   772.21666667]]))"
      ]
     },
     "execution_count": 19,
     "metadata": {},
     "output_type": "execute_result"
    }
   ],
   "source": [
    "chi2_contingency(contingency_table)"
   ]
  },
  {
   "cell_type": "code",
   "execution_count": 20,
   "id": "ec4c0044",
   "metadata": {},
   "outputs": [
    {
     "data": {
      "text/plain": [
       "count    1.073600e+04\n",
       "mean     6.048866e+05\n",
       "std      5.472279e+05\n",
       "min      0.000000e+00\n",
       "25%      1.694700e+05\n",
       "50%      3.204000e+05\n",
       "75%      1.310700e+06\n",
       "max      1.310700e+06\n",
       "Name: br_000, dtype: float64"
      ]
     },
     "execution_count": 20,
     "metadata": {},
     "output_type": "execute_result"
    }
   ],
   "source": [
    "df[\"br_000\"].describe()"
   ]
  },
  {
   "cell_type": "code",
   "execution_count": null,
   "id": "167ca0b3",
   "metadata": {},
   "outputs": [],
   "source": []
  },
  {
   "cell_type": "markdown",
   "id": "19c64dbb",
   "metadata": {},
   "source": [
    "<b>F Test"
   ]
  },
  {
   "cell_type": "markdown",
   "id": "1b3541d7",
   "metadata": {},
   "source": []
  },
  {
   "cell_type": "code",
   "execution_count": null,
   "id": "57d0b501",
   "metadata": {},
   "outputs": [],
   "source": []
  },
  {
   "cell_type": "code",
   "execution_count": null,
   "id": "39a380da",
   "metadata": {},
   "outputs": [],
   "source": []
  },
  {
   "cell_type": "markdown",
   "id": "a02b2a10",
   "metadata": {},
   "source": [
    "<b>3.4 Feature Count"
   ]
  },
  {
   "cell_type": "markdown",
   "id": "bb36e058",
   "metadata": {},
   "source": [
    "The above statistical view only shows a snapshot of information from the total features. \n",
    "\n",
    "Issues with the above statisticall analysis.. too much information.. some standard methods unsuable, pairplot etc.\n",
    "Are their ways we can make statements about the data?"
   ]
  },
  {
   "cell_type": "code",
   "execution_count": null,
   "id": "2c92b72d",
   "metadata": {},
   "outputs": [],
   "source": []
  },
  {
   "cell_type": "markdown",
   "id": "cab7603f",
   "metadata": {},
   "source": [
    "<b>Dimensionality Reduction"
   ]
  },
  {
   "cell_type": "code",
   "execution_count": null,
   "id": "6019af23",
   "metadata": {},
   "outputs": [],
   "source": []
  },
  {
   "cell_type": "code",
   "execution_count": null,
   "id": "434a0475",
   "metadata": {},
   "outputs": [],
   "source": []
  },
  {
   "cell_type": "markdown",
   "id": "cf626f3f",
   "metadata": {},
   "source": [
    "<b>Conclusion"
   ]
  },
  {
   "cell_type": "code",
   "execution_count": null,
   "id": "064a279c",
   "metadata": {},
   "outputs": [],
   "source": []
  },
  {
   "cell_type": "code",
   "execution_count": null,
   "id": "ab2bf310",
   "metadata": {},
   "outputs": [],
   "source": []
  },
  {
   "cell_type": "markdown",
   "id": "d57209c1",
   "metadata": {},
   "source": [
    "<b>References"
   ]
  },
  {
   "cell_type": "code",
   "execution_count": null,
   "id": "ee2a5090",
   "metadata": {},
   "outputs": [],
   "source": []
  }
 ],
 "metadata": {
  "kernelspec": {
   "display_name": "Python 3",
   "language": "python",
   "name": "python3"
  },
  "language_info": {
   "codemirror_mode": {
    "name": "ipython",
    "version": 3
   },
   "file_extension": ".py",
   "mimetype": "text/x-python",
   "name": "python",
   "nbconvert_exporter": "python",
   "pygments_lexer": "ipython3",
   "version": "3.11.3"
  }
 },
 "nbformat": 4,
 "nbformat_minor": 5
}
